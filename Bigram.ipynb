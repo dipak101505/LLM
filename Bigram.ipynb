{
 "cells": [
  {
   "cell_type": "code",
   "execution_count": 30,
   "id": "9e7e4012-8dd9-4172-97a5-4ad5db022bae",
   "metadata": {},
   "outputs": [
    {
     "name": "stdout",
     "output_type": "stream",
     "text": [
      "cpu\n"
     ]
    }
   ],
   "source": [
    "from icecream import ic\n",
    "device = 'cuda' if torch.cuda.is_available() else 'cpu'\n",
    "import torch\n",
    "print (device)\n",
    "block_size=(8)\n",
    "batch_size=(4)"
   ]
  },
  {
   "cell_type": "code",
   "execution_count": 25,
   "id": "5fedfb40-2c97-445b-a3c5-d51570e757b2",
   "metadata": {},
   "outputs": [
    {
     "name": "stdout",
     "output_type": "stream",
     "text": [
      "80\n"
     ]
    }
   ],
   "source": [
    "with open('wizard_of_oz.txt','r',encoding='utf-8') as f:\n",
    "    text =f.read()\n",
    "chars = sorted(set(text))\n",
    "vocabulary_size = len(chars)\n",
    "print(vocabulary_size)"
   ]
  },
  {
   "cell_type": "code",
   "execution_count": 24,
   "id": "50c515b1-e99b-4b10-9c17-6d5abe4bb5e8",
   "metadata": {},
   "outputs": [
    {
     "name": "stdout",
     "output_type": "stream",
     "text": [
      "tensor([79, 32, 72,  5, 71,  1, 66, 67,  1, 73, 71, 57, 22,  1, 66, 67,  1, 73,\n",
      "        71, 57,  1, 53, 72,  1, 53, 64, 64, 10,  1, 43, 60, 57,  1, 55, 60, 61,\n",
      "        64, 56, 70, 57, 66,  1, 75, 67, 66,  5, 72,  1, 64, 57, 72,  1, 65, 57,\n",
      "         1, 71, 72, 67, 68,  1, 72, 57, 64, 64, 61, 66, 59,  1, 72, 53, 64, 57,\n",
      "        71,  0, 67, 58,  1, 72, 60, 57,  1, 35, 53, 66, 56,  1, 67, 58,  1, 38,\n",
      "        78, 10,  1, 32,  1, 63, 66, 67, 75,  1])\n"
     ]
    }
   ],
   "source": [
    "string_to_int = { ch:i for i,ch in enumerate(chars) }\n",
    "int_to_string = {i:ch for i,ch in enumerate(chars)}\n",
    "encode = lambda s: [string_to_int[c] for c in s]\n",
    "decode = lambda s : ''.join([int_to_string[i] for i in s])\n",
    "\n",
    "data = torch.tensor(encode(text), dtype=torch.long)\n",
    "print(data[:100]) "
   ]
  },
  {
   "cell_type": "code",
   "execution_count": null,
   "id": "05cf1227-4d1b-4ea5-82a4-f60502a3d164",
   "metadata": {},
   "outputs": [],
   "source": []
  }
 ],
 "metadata": {
  "kernelspec": {
   "display_name": "Python 3 (ipykernel)",
   "language": "python",
   "name": "python3"
  },
  "language_info": {
   "codemirror_mode": {
    "name": "ipython",
    "version": 3
   },
   "file_extension": ".py",
   "mimetype": "text/x-python",
   "name": "python",
   "nbconvert_exporter": "python",
   "pygments_lexer": "ipython3",
   "version": "3.11.5"
  }
 },
 "nbformat": 4,
 "nbformat_minor": 5
}
